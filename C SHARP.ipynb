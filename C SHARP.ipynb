{
 "cells": [
  {
   "cell_type": "markdown",
   "id": "a44fbb16",
   "metadata": {},
   "source": [
    "# $V_2$\n",
    "- No se pueden crear dos clases con el mismo nombre en una aplicación a no ser que se metan en namespaces diferentes.\n",
    "- Clases:\n",
    "$$\n",
    "\\left\\{\n",
    "\\begin{align}\n",
    "     &\\text{Clases propias: las que yo defino} \\\\\n",
    "     &\\text{Clases predefinidas: Biblioteca de clases API}\n",
    "\\end{align}\n",
    "\\right.\n",
    "$$\n"
   ]
  },
  {
   "cell_type": "markdown",
   "id": "2b387e5b",
   "metadata": {},
   "source": [
    "# $V_3$"
   ]
  },
  {
   "cell_type": "code",
   "execution_count": 3,
   "id": "ec1fa01e",
   "metadata": {},
   "outputs": [],
   "source": [
    "/*comentario \n",
    " *De \n",
    " *Varias\n",
    " *Líneas\n",
    " * */"
   ]
  },
  {
   "cell_type": "code",
   "execution_count": null,
   "id": "a78c8ea6",
   "metadata": {},
   "outputs": [],
   "source": []
  }
 ],
 "metadata": {
  "kernelspec": {
   "display_name": ".NET (C#)",
   "language": "C#",
   "name": ".net-csharp"
  },
  "language_info": {
   "file_extension": ".cs",
   "mimetype": "text/x-csharp",
   "name": "C#",
   "pygments_lexer": "csharp",
   "version": "8.0"
  }
 },
 "nbformat": 4,
 "nbformat_minor": 5
}
